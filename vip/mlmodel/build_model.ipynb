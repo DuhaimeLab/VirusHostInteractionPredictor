{
 "cells": [
  {
   "attachments": {},
   "cell_type": "markdown",
   "metadata": {},
   "source": [
    "# Build machine learning model \n",
    "\n",
    "**Author**: Eric Bastien  \n",
    "**Last updated**: 2023/03/21\n",
    "\n",
    "In this notebook, I use  learning model approaches to predict virus-host interactions using signals of co-evolutions. Instead of making it into a Python script, I am using a Jupyter notebook since some of the steps might affect the approach for steps down the line. \n",
    "\n",
    "## Setup\n",
    "\n",
    "Loading modules necessary for training and testing of machine learning model. Also loading my features script:"
   ]
  },
  {
   "cell_type": "code",
   "execution_count": 15,
   "metadata": {},
   "outputs": [],
   "source": [
    "import pandas as pd\n",
    "import numpy as np\n",
    "\n",
    "import joblib\n",
    "\n",
    "# machine learning (sklearn) import\n",
    "from sklearn.model_selection import train_test_split\n",
    "from sklearn.model_selection import cross_val_score\n",
    "from sklearn.model_selection import ShuffleSplit\n",
    "from sklearn.model_selection import GridSearchCV\n",
    "from sklearn.ensemble import GradientBoostingClassifier\n",
    "\n",
    "# plotting\n",
    "import matplotlib.pyplot as plt\n",
    "import seaborn as sns\n",
    "sns.set_theme()\n"
   ]
  },
  {
   "attachments": {},
   "cell_type": "markdown",
   "metadata": {},
   "source": [
    "Load data"
   ]
  },
  {
   "cell_type": "code",
   "execution_count": 5,
   "metadata": {},
   "outputs": [
    {
     "name": "stdout",
     "output_type": "stream",
     "text": [
      "The dataframe is made of 8849 rows and 4 columns!\n"
     ]
    },
    {
     "data": {
      "text/html": [
       "<div>\n",
       "<style scoped>\n",
       "    .dataframe tbody tr th:only-of-type {\n",
       "        vertical-align: middle;\n",
       "    }\n",
       "\n",
       "    .dataframe tbody tr th {\n",
       "        vertical-align: top;\n",
       "    }\n",
       "\n",
       "    .dataframe thead th {\n",
       "        text-align: right;\n",
       "    }\n",
       "</style>\n",
       "<table border=\"1\" class=\"dataframe\">\n",
       "  <thead>\n",
       "    <tr style=\"text-align: right;\">\n",
       "      <th></th>\n",
       "      <th>GCdiff</th>\n",
       "      <th>k3dist</th>\n",
       "      <th>k6dist</th>\n",
       "      <th>Homology</th>\n",
       "    </tr>\n",
       "    <tr>\n",
       "      <th>pairs</th>\n",
       "      <th></th>\n",
       "      <th></th>\n",
       "      <th></th>\n",
       "      <th></th>\n",
       "    </tr>\n",
       "  </thead>\n",
       "  <tbody>\n",
       "    <tr>\n",
       "      <th>Staphylococcus_arlettae:PG-2021_10</th>\n",
       "      <td>-2.742114</td>\n",
       "      <td>0.578449</td>\n",
       "      <td>0.402651</td>\n",
       "      <td>0</td>\n",
       "    </tr>\n",
       "    <tr>\n",
       "      <th>Staphylococcus_aureus:PG-2021_10</th>\n",
       "      <td>-2.089694</td>\n",
       "      <td>0.616030</td>\n",
       "      <td>0.433584</td>\n",
       "      <td>0</td>\n",
       "    </tr>\n",
       "    <tr>\n",
       "      <th>Staphylococcus_auricularis:PG-2021_10</th>\n",
       "      <td>-6.609046</td>\n",
       "      <td>0.683113</td>\n",
       "      <td>0.479903</td>\n",
       "      <td>0</td>\n",
       "    </tr>\n",
       "    <tr>\n",
       "      <th>Staphylococcus_capitis:PG-2021_10</th>\n",
       "      <td>-2.156700</td>\n",
       "      <td>0.453624</td>\n",
       "      <td>0.328484</td>\n",
       "      <td>0</td>\n",
       "    </tr>\n",
       "    <tr>\n",
       "      <th>Staphylococcus_caprae:PG-2021_10</th>\n",
       "      <td>-2.849845</td>\n",
       "      <td>0.550319</td>\n",
       "      <td>0.381439</td>\n",
       "      <td>0</td>\n",
       "    </tr>\n",
       "  </tbody>\n",
       "</table>\n",
       "</div>"
      ],
      "text/plain": [
       "                                         GCdiff    k3dist    k6dist  Homology\n",
       "pairs                                                                        \n",
       "Staphylococcus_arlettae:PG-2021_10    -2.742114  0.578449  0.402651         0\n",
       "Staphylococcus_aureus:PG-2021_10      -2.089694  0.616030  0.433584         0\n",
       "Staphylococcus_auricularis:PG-2021_10 -6.609046  0.683113  0.479903         0\n",
       "Staphylococcus_capitis:PG-2021_10     -2.156700  0.453624  0.328484         0\n",
       "Staphylococcus_caprae:PG-2021_10      -2.849845  0.550319  0.381439         0"
      ]
     },
     "execution_count": 5,
     "metadata": {},
     "output_type": "execute_result"
    }
   ],
   "source": [
    "# load data\n",
    "data = pd.read_csv('../data/ml_input.csv')\n",
    "\n",
    "# set index\n",
    "data = data.set_index('pairs')\n",
    "\n",
    "# select relevant rows for machine learning model \n",
    "ml_input = data[['GCdiff', 'k3dist', 'k6dist', 'Homology']]\n",
    "print('The dataframe is made of {} rows and {} columns!'.format(ml_input.shape[0], ml_input.shape[1]))\n",
    "ml_input.head()"
   ]
  },
  {
   "cell_type": "code",
   "execution_count": 6,
   "metadata": {},
   "outputs": [
    {
     "data": {
      "text/plain": [
       "pairs\n",
       "Staphylococcus_arlettae:PG-2021_10       0\n",
       "Staphylococcus_aureus:PG-2021_10         1\n",
       "Staphylococcus_auricularis:PG-2021_10    0\n",
       "Staphylococcus_capitis:PG-2021_10        1\n",
       "Staphylococcus_caprae:PG-2021_10         0\n",
       "Name: infection, dtype: int64"
      ]
     },
     "execution_count": 6,
     "metadata": {},
     "output_type": "execute_result"
    }
   ],
   "source": [
    "# retrieve target\n",
    "ml_target = data['infection']\n",
    "\n",
    "# replace categorical values with numbers\n",
    "ml_target = ml_target.map({'NoInf' : 0, 'Inf': 1})\n",
    "ml_target.head()"
   ]
  },
  {
   "attachments": {},
   "cell_type": "markdown",
   "metadata": {},
   "source": [
    "# Pre model analysis"
   ]
  },
  {
   "cell_type": "code",
   "execution_count": 8,
   "metadata": {},
   "outputs": [
    {
     "name": "stderr",
     "output_type": "stream",
     "text": [
      "/var/folders/yy/x1x_rtqj13l_9jplp1l2hxgw0000gn/T/ipykernel_77843/941714424.py:5: DeprecationWarning: `np.bool` is a deprecated alias for the builtin `bool`. To silence this warning, use `bool` by itself. Doing this will not modify any behavior and is safe. If you specifically wanted the numpy scalar type, use `np.bool_` here.\n",
      "Deprecated in NumPy 1.20; for more details and guidance: https://numpy.org/devdocs/release/1.20.0-notes.html#deprecations\n",
      "  upper = corr_matrix.where(np.triu(np.ones(corr_matrix.shape), k = 1).astype(np.bool))\n"
     ]
    },
    {
     "data": {
      "text/html": [
       "<div>\n",
       "<style scoped>\n",
       "    .dataframe tbody tr th:only-of-type {\n",
       "        vertical-align: middle;\n",
       "    }\n",
       "\n",
       "    .dataframe tbody tr th {\n",
       "        vertical-align: top;\n",
       "    }\n",
       "\n",
       "    .dataframe thead th {\n",
       "        text-align: right;\n",
       "    }\n",
       "</style>\n",
       "<table border=\"1\" class=\"dataframe\">\n",
       "  <thead>\n",
       "    <tr style=\"text-align: right;\">\n",
       "      <th></th>\n",
       "      <th>GCdiff</th>\n",
       "      <th>k3dist</th>\n",
       "      <th>k6dist</th>\n",
       "      <th>Homology</th>\n",
       "    </tr>\n",
       "  </thead>\n",
       "  <tbody>\n",
       "    <tr>\n",
       "      <th>GCdiff</th>\n",
       "      <td>NaN</td>\n",
       "      <td>0.02981</td>\n",
       "      <td>0.033174</td>\n",
       "      <td>0.122909</td>\n",
       "    </tr>\n",
       "    <tr>\n",
       "      <th>k3dist</th>\n",
       "      <td>NaN</td>\n",
       "      <td>NaN</td>\n",
       "      <td>0.946431</td>\n",
       "      <td>0.179480</td>\n",
       "    </tr>\n",
       "    <tr>\n",
       "      <th>k6dist</th>\n",
       "      <td>NaN</td>\n",
       "      <td>NaN</td>\n",
       "      <td>NaN</td>\n",
       "      <td>0.200905</td>\n",
       "    </tr>\n",
       "    <tr>\n",
       "      <th>Homology</th>\n",
       "      <td>NaN</td>\n",
       "      <td>NaN</td>\n",
       "      <td>NaN</td>\n",
       "      <td>NaN</td>\n",
       "    </tr>\n",
       "  </tbody>\n",
       "</table>\n",
       "</div>"
      ],
      "text/plain": [
       "          GCdiff   k3dist    k6dist  Homology\n",
       "GCdiff       NaN  0.02981  0.033174  0.122909\n",
       "k3dist       NaN      NaN  0.946431  0.179480\n",
       "k6dist       NaN      NaN       NaN  0.200905\n",
       "Homology     NaN      NaN       NaN       NaN"
      ]
     },
     "execution_count": 8,
     "metadata": {},
     "output_type": "execute_result"
    }
   ],
   "source": [
    "# create correlation matrix\n",
    "corr_matrix = ml_input.corr().abs()\n",
    "\n",
    "# select upper triangle of correlation matrix\n",
    "upper = corr_matrix.where(np.triu(np.ones(corr_matrix.shape), k = 1).astype(np.bool))\n",
    "upper\n"
   ]
  },
  {
   "attachments": {},
   "cell_type": "markdown",
   "metadata": {},
   "source": [
    "The k3 distance and the k6 distance are highly correlated, which is not surprising. I think there is a line of thought\n",
    "that could justify removing one of those two features, but visually when I did the plot matrix the slight difference\n",
    "might matter a bit. For now, I think it's fine to keep them. I think if the correlation between the two was higher,\n",
    "like around 98% and above, then I would remove one of those two features.\n",
    "\n",
    "## Building the Model\n",
    "\n",
    "In my previous attempts, the GradientBoostingClassifier was slightly better than the other models. The difference\n",
    "between the different models is fairly small."
   ]
  },
  {
   "cell_type": "code",
   "execution_count": 9,
   "metadata": {},
   "outputs": [
    {
     "name": "stdout",
     "output_type": "stream",
     "text": [
      "Accuracy on training set: 0.973\n",
      "Accuracy on test set: 0.879\n",
      "                                         GCdiff    k3dist    k6dist  Homology\n",
      "pairs                                                                        \n",
      "Staphylococcus_arlettae:PG-2021_10    -2.742114  0.578449  0.402651         0\n",
      "Staphylococcus_aureus:PG-2021_10      -2.089694  0.616030  0.433584         0\n",
      "Staphylococcus_auricularis:PG-2021_10 -6.609046  0.683113  0.479903         0\n",
      "Staphylococcus_capitis:PG-2021_10     -2.156700  0.453624  0.328484         0\n",
      "Staphylococcus_caprae:PG-2021_10      -2.849845  0.550319  0.381439         0\n",
      "pairs\n",
      "Staphylococcus_arlettae:PG-2021_10       0\n",
      "Staphylococcus_aureus:PG-2021_10         1\n",
      "Staphylococcus_auricularis:PG-2021_10    0\n",
      "Staphylococcus_capitis:PG-2021_10        1\n",
      "Staphylococcus_caprae:PG-2021_10         0\n",
      "Name: infection, dtype: int64\n"
     ]
    }
   ],
   "source": [
    "X_train, X_test, y_train, y_test = train_test_split(ml_input, ml_target, random_state = 5, test_size = 0.3, train_size = 0.7)\n",
    "\n",
    "gbrt = GradientBoostingClassifier(random_state = 10, max_depth = 7, learning_rate = 0.25, loss = 'exponential')\n",
    "gbrt.fit(X_train, y_train)\n",
    "\n",
    "print(\"Accuracy on training set: {:.3f}\".format(gbrt.score(X_train, y_train)))\n",
    "print(\"Accuracy on test set: {:.3f}\".format(gbrt.score(X_test, y_test)))\n",
    "\n",
    "print(ml_input.head())\n",
    "print(ml_target.head())"
   ]
  },
  {
   "attachments": {},
   "cell_type": "markdown",
   "metadata": {},
   "source": [
    "Next, let's do a cross validation of the model. This is a more thorough way to determine if the model is doing good.\n",
    "More specifically, I will use shuffle-split cross-validation. This should be a bit redundant since I used the\n",
    "shuffle-split cross-validation in the grid search (done in another file) to determine the best parameters. In this\n",
    "case, I am already using the best parameters that were determined."
   ]
  },
  {
   "cell_type": "code",
   "execution_count": 11,
   "metadata": {},
   "outputs": [
    {
     "name": "stdout",
     "output_type": "stream",
     "text": [
      "Cross_validation scores:\n",
      "[0.86485876 0.86079096 0.86847458 0.86418079 0.86757062 0.8680226\n",
      " 0.86372881 0.85717514 0.86734463 0.86079096]\n",
      "Average cross-validation score: 0.864\n"
     ]
    }
   ],
   "source": [
    "shuffle_split = ShuffleSplit(test_size = 0.5, train_size = 0.5, n_splits = 10)\n",
    "scores = cross_val_score(gbrt, ml_input, ml_target, cv = shuffle_split)\n",
    "print(\"Cross_validation scores:\\n{}\".format(scores))\n",
    "print(\"Average cross-validation score: {:.3f}\".format(scores.mean()))"
   ]
  },
  {
   "attachments": {},
   "cell_type": "markdown",
   "metadata": {},
   "source": [
    "## Assessing model performance"
   ]
  },
  {
   "cell_type": "code",
   "execution_count": 13,
   "metadata": {},
   "outputs": [
    {
     "data": {
      "text/plain": [
       "Text(0.5, 0, 'Feature Importance')"
      ]
     },
     "execution_count": 13,
     "metadata": {},
     "output_type": "execute_result"
    },
    {
     "data": {
      "image/png": "[encoded data removed]",
      "text/plain": [
       "<Figure size 480x480 with 1 Axes>"
      ]
     },
     "metadata": {},
     "output_type": "display_data"
    }
   ],
   "source": [
    "fig = plt.figure(figsize = (4, 4), dpi=120, facecolor='w', edgecolor='k')\n",
    "\n",
    "features_name = ['GC Difference', 'k3 distance', 'k6 distance', 'Homology']\n",
    "\n",
    "def plot_feature_importances(model):\n",
    "    n_features = ml_input.shape[1]\n",
    "    plt.barh(np.arange(n_features), model.feature_importances_, align = 'center', height=.5)\n",
    "    plt.yticks(np.arange(n_features), ml_input.columns)\n",
    "    plt.xlabel(\"Feature importance\")\n",
    "    plt.ylabel(\"Feature\")\n",
    "    plt.ylim(-1, n_features)\n",
    "\n",
    "ax = plt.axes()\n",
    "#\n",
    "#plt.style.context('seaborn-whitegrid')\n",
    "\n",
    "plot_feature_importances(gbrt)\n",
    "\n",
    "\n",
    "plt.rc('font', family='Helvetica')\n",
    "\n",
    "plt.ylabel(None)\n",
    "plt.yticks(np.arange(4), features_name)\n",
    "\n",
    "plt.xlabel('Feature Importance')\n",
    "\n",
    "#plt.savefig('../reports/figures/features_importance_VIPmanuscript.png', bbox_inches='tight')\n",
    "#plt.savefig('../reports/figures/features_importance_VIPmanuscript.pdf', bbox_inches='tight')"
   ]
  },
  {
   "attachments": {},
   "cell_type": "markdown",
   "metadata": {},
   "source": [
    "## Save model"
   ]
  },
  {
   "cell_type": "code",
   "execution_count": 17,
   "metadata": {},
   "outputs": [
    {
     "data": {
      "text/plain": [
       "['gbrt.pkl']"
      ]
     },
     "execution_count": 17,
     "metadata": {},
     "output_type": "execute_result"
    }
   ],
   "source": [
    "# Save model as pickle file\n",
    "joblib.dump(gbrt, 'gbrt.pkl')"
   ]
  }
 ],
 "metadata": {
  "kernelspec": {
   "display_name": "vip",
   "language": "python",
   "name": "python3"
  },
  "language_info": {
   "codemirror_mode": {
    "name": "ipython",
    "version": 3
   },
   "file_extension": ".py",
   "mimetype": "text/x-python",
   "name": "python",
   "nbconvert_exporter": "python",
   "pygments_lexer": "ipython3",
   "version": "3.10.9"
  },
  "orig_nbformat": 4
 },
 "nbformat": 4,
 "nbformat_minor": 2
}
