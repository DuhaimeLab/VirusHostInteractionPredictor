{
 "cells": [
  {
   "attachments": {},
   "cell_type": "markdown",
   "metadata": {},
   "source": [
    "# Example of running tool \n",
    "\n",
    "## blastn jobs\n",
    "\n",
    "Before running VHIP to predict virus-host interactions, blastn are first needed: \n",
    "1. blastn between virus sequences against host sequences\n",
    "2. blastn between virus sequences against host spacers\n",
    "\n",
    "Here are guidelinees in running blastn jobs.\n",
    "First combine the virus sequences into a single file (`cat ./viruses/*.fasta > allviruses.fasta`). \n",
    "1. Run CRISPRCasFinder on host sequences of interest (each host should be in its own `.fasta` file)  \n",
    "    a. Extract the spacers and store them into a single `.fasta` file. We included two helper files in the folder `helper_scripts/ `\n",
    "        i. To get a table of all spacers, use the `results_to_csv.sh` script\n",
    "        ii. To convert the csv file into a fasta files of spacers, use the `csv_to_multifasta.py`\n",
    "    b. Make blastn database (`makeblastdb -in fastafilename.fasta -title thetitleyouwant -dbtype nucl`)  \n",
    "    c. Run blastn between viruses against spacers. The output of this blastn is one of the needed input for VHIP \n",
    "2. Run blastn for viruses against hosts.  \n",
    "    a. Combine all the hosts into a single file (`cat ./host_sequences/*.fasta > allhosts.fasta`)  \n",
    "    b. Make blastn database  \n",
    "    c. Run blastn between viruses against host sequences. The output of this blastn is the other needed input for VHIP. \n",
    "\n",
    "The blastn files for this example are included as part of this tutorial. \n",
    "\n",
    "\n",
    "#  Running VHIP \n"
   ]
  },
  {
   "cell_type": "markdown",
   "metadata": {},
   "source": [
    "First, let's load the PredictInteractions class that will make the predictions. Please make sure that you have the conda environment setup correctly. The list of modules required to run this tool can be found in the `requirements.txt` file. \n"
   ]
  },
  {
   "cell_type": "code",
   "execution_count": 1,
   "metadata": {},
   "outputs": [],
   "source": [
    "from vhip.predict_interactions import PredictInteractions\n",
    "\n",
    "# path of saved machine learning model\n",
    "model_path = \"../src/vhip/gbrt.skops\""
   ]
  },
  {
   "attachments": {},
   "cell_type": "markdown",
   "metadata": {},
   "source": [
    "Next, the user need to define certain parameters:\n",
    "1. Location of viruses fasta files. All viruses should be in their own separate file. \n",
    "2. Location of the host fasta files. All hosts should be in their own separate files as well. \n",
    "3. Blastn results of viruses against host, and viruses against spacers. \n",
    "4. The filename for the output. \n",
    "4. The number of CPU cores to be used. \n",
    "\n",
    "IMPORTANT: Viruses and hosts have to be in separate folders. \n",
    "\n",
    "In here, I will be using the test_set folder as an example. \n",
    "\n",
    "There are two different ways to use the tool: \n",
    "1. Make a prediction for each possible virus-host pair. \n",
    "2. Make predictions only for virus-host pair of interest by providing a tsv as an additional input file. \n",
    "\n",
    "In either case, user need to provide the virus and host sequences in separate folders, and output of blastn. \n",
    "\n",
    "### 1. **Make a prediction for each possible virus-host pair**\n",
    "\n",
    "\n",
    "Regarding the number of CPU cores, I strongly recommend to use at least 6 if that's possible. With only 1 core, it takes around 40 minutes to run this tool on the test set. Using 6, it will only take about 5 minutes. \n",
    "\n",
    "This tool also assumes that the user is interesting in predicting interactions for every virus-host combinations possible. \n",
    "\n",
    "The output file will be saved in the `test_set/` folder.\n"
   ]
  },
  {
   "cell_type": "code",
   "execution_count": 2,
   "metadata": {},
   "outputs": [],
   "source": [
    "# USER INPUTS\n",
    "virus_directory_path = './test_set/virus_sequences/'\n",
    "host_directory_path = './test_set/host_sequences/'\n",
    "\n",
    "blastn_path = './test_set/StaphStudy_virusvhosts.tsv'\n",
    "spacer_path = './test_set/StaphStudy_virusvspacers_blastn.tsv'\n",
    "\n",
    "output_filename = './output/test_allpossiblepairs_predictions.tsv'\n",
    "\n",
    "CPU_CORES = 6"
   ]
  },
  {
   "attachments": {},
   "cell_type": "markdown",
   "metadata": {},
   "source": [
    "The code below computes the predictions. There is nothing for the user to change!"
   ]
  }
 ],
 "metadata": {
  "kernelspec": {
   "display_name": "vip",
   "language": "python",
   "name": "python3"
  },
  "language_info": {
   "codemirror_mode": {
    "name": "ipython",
    "version": 3
   },
   "file_extension": ".py",
   "mimetype": "text/x-python",
   "name": "python",
   "nbconvert_exporter": "python",
   "pygments_lexer": "ipython3",
   "version": "3.9.12"
  },
  "orig_nbformat": 4
 },
 "nbformat": 4,
 "nbformat_minor": 2
}
