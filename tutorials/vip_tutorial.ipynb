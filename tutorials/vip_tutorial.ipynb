{
 "cells": [
  {
   "attachments": {},
   "cell_type": "markdown",
   "metadata": {},
   "source": [
    "# Example of running tool \n",
    "\n",
    "## blastn jobs\n",
    "\n",
    "Before running VHIP to predict virus-host interactions, blastn are first needed: \n",
    "1. blastn between virus sequences against host sequences\n",
    "2. blastn between virus sequences against host spacers\n",
    "\n",
    "Here are guidelinees in running blastn jobs.\n",
    "First combine the virus sequences into a single file (`cat ./viruses/*.fasta > allviruses.fasta`). \n",
    "1. Run CRISPRCasFinder on host sequences of interest (each host should be in its own `.fasta` file)  \n",
    "    a. Extract the spacers and store them into a single `.fasta` file. We included two helper files in the folder `helper_scripts/ `\n",
    "        i. To get a table of all spacers, use the `results_to_csv.sh` script\n",
    "        ii. To convert the csv file into a fasta files of spacers, use the `csv_to_multifasta.py`\n",
    "    b. Make blastn database (`makeblastdb -in fastafilename.fasta -title thetitleyouwant -dbtype nucl`)  \n",
    "    c. Run blastn between viruses against spacers. The output of this blastn is one of the needed input for VHIP \n",
    "2. Run blastn for viruses against hosts.  \n",
    "    a. Combine all the hosts into a single file (`cat ./host_sequences/*.fasta > allhosts.fasta`)  \n",
    "    b. Make blastn database  \n",
    "    c. Run blastn between viruses against host sequences. The output of this blastn is the other needed input for VHIP. \n",
    "\n",
    "The blastn files for this example are included as part of this tutorial. \n",
    "\n",
    "\n",
    "#  Running VHIP \n"
   ]
  },
  {
   "cell_type": "markdown",
   "metadata": {},
   "source": [
    "First, let's load the PredictInteractions class that will make the predictions. Please make sure that you have the conda environment setup correctly. The list of modules required to run this tool can be found in the `requirements.txt` file. \n"
   ]
  },
  {
   "cell_type": "code",
   "execution_count": 11,
   "metadata": {},
   "outputs": [],
   "source": [
    "from vhip.predict_interactions import PredictInteractions\n",
    "\n",
    "# path of saved machine learning model \n",
    "model_path = \"../src/vhip/gbrt.pkl\""
   ]
  },
  {
   "attachments": {},
   "cell_type": "markdown",
   "metadata": {},
   "source": [
    "Next, the user need to define certain parameters:\n",
    "1. Location of viruses fasta files. All viruses should be in their own separate file. \n",
    "2. Location of the host fasta files. All hosts should be in their own separate files as well. \n",
    "3. Blastn results of viruses against host, and viruses against spacers. \n",
    "4. The filename for the output. \n",
    "4. The number of CPU cores to be used. \n",
    "\n",
    "IMPORTANT: Viruses and hosts have to be in separate folders. \n",
    "\n",
    "In here, I will be using the test_set folder as an example. \n",
    "\n",
    "There are two different ways to use the tool: \n",
    "1. Make a prediction for each possible virus-host pair. \n",
    "2. Make predictions only for virus-host pair of interest by providing a tsv as an additional input file. \n",
    "\n",
    "In either case, user need to provide the virus and host sequences in separate folders, and output of blastn. \n",
    "\n",
    "### 1. **Make a prediction for each possible virus-host pair**\n",
    "\n",
    "\n",
    "Regarding the number of CPU cores, I strongly recommend to use at least 6 if that's possible. With only 1 core, it takes around 40 minutes to run this tool on the test set. Using 6, it will only take about 5 minutes. \n",
    "\n",
    "This tool also assumes that the user is interesting in predicting interactions for every virus-host combinations possible. \n",
    "\n",
    "The output file will be saved in the `test_set/` folder.\n"
   ]
  },
  {
   "cell_type": "code",
   "execution_count": 12,
   "metadata": {},
   "outputs": [],
   "source": [
    "# USER INPUTS\n",
    "virus_directory_path = './test_set/virus_sequences/'\n",
    "host_directory_path = './test_set/host_sequences/'\n",
    "\n",
    "blastn_path = './test_set/StaphStudy_virusvhosts.tsv'\n",
    "spacer_path = './test_set/StaphStudy_virusvspacers_blastn.tsv'\n",
    "\n",
    "output_filename = './output/test_allpossiblepairs_predictions.tsv'\n",
    "\n",
    "CPU_CORES = 6"
   ]
  },
  {
   "attachments": {},
   "cell_type": "markdown",
   "metadata": {},
   "source": [
    "The code below computes the predictions. There is nothing for the user to change!"
   ]
  },
  {
   "cell_type": "code",
   "execution_count": 13,
   "metadata": {},
   "outputs": [
    {
     "name": "stderr",
     "output_type": "stream",
     "text": [
      "/Users/nfallahi/Developer/LSATS-RCI-Research/VirusHostInteractionPredictor/.venv/lib/python3.11/site-packages/sklearn/base.py:348: InconsistentVersionWarning: Trying to unpickle estimator DummyClassifier from version 1.2.1 when using version 1.3.2. This might lead to breaking code or invalid results. Use at your own risk. For more info please refer to:\n",
      "https://scikit-learn.org/stable/model_persistence.html#security-maintainability-limitations\n",
      "  warnings.warn(\n"
     ]
    },
    {
     "ename": "ValueError",
     "evalue": "node array from the pickle has an incompatible dtype:\n- expected: {'names': ['left_child', 'right_child', 'feature', 'threshold', 'impurity', 'n_node_samples', 'weighted_n_node_samples', 'missing_go_to_left'], 'formats': ['<i8', '<i8', '<i8', '<f8', '<f8', '<i8', '<f8', 'u1'], 'offsets': [0, 8, 16, 24, 32, 40, 48, 56], 'itemsize': 64}\n- got     : [('left_child', '<i8'), ('right_child', '<i8'), ('feature', '<i8'), ('threshold', '<f8'), ('impurity', '<f8'), ('n_node_samples', '<i8'), ('weighted_n_node_samples', '<f8')]",
     "output_type": "error",
     "traceback": [
      "\u001b[0;31m---------------------------------------------------------------------------\u001b[0m",
      "\u001b[0;31mValueError\u001b[0m                                Traceback (most recent call last)",
      "\u001b[1;32m/Users/nfallahi/Developer/LSATS-RCI-Research/VirusHostInteractionPredictor/tutorials/vip_tutorial.ipynb Cell 7\u001b[0m line \u001b[0;36m4\n\u001b[1;32m      <a href='vscode-notebook-cell:/Users/nfallahi/Developer/LSATS-RCI-Research/VirusHostInteractionPredictor/tutorials/vip_tutorial.ipynb#W6sZmlsZQ%3D%3D?line=1'>2</a>\u001b[0m predictions \u001b[39m=\u001b[39m PredictInteractions(virus_directory_path, host_directory_path)\n\u001b[1;32m      <a href='vscode-notebook-cell:/Users/nfallahi/Developer/LSATS-RCI-Research/VirusHostInteractionPredictor/tutorials/vip_tutorial.ipynb#W6sZmlsZQ%3D%3D?line=2'>3</a>\u001b[0m predictions\u001b[39m.\u001b[39madd_blastn_files(blastn_path, spacer_path)\n\u001b[0;32m----> <a href='vscode-notebook-cell:/Users/nfallahi/Developer/LSATS-RCI-Research/VirusHostInteractionPredictor/tutorials/vip_tutorial.ipynb#W6sZmlsZQ%3D%3D?line=3'>4</a>\u001b[0m predictions\u001b[39m.\u001b[39;49mload_model(model_path)\n\u001b[1;32m      <a href='vscode-notebook-cell:/Users/nfallahi/Developer/LSATS-RCI-Research/VirusHostInteractionPredictor/tutorials/vip_tutorial.ipynb#W6sZmlsZQ%3D%3D?line=4'>5</a>\u001b[0m predictions\u001b[39m.\u001b[39mdo_setup()\n\u001b[1;32m      <a href='vscode-notebook-cell:/Users/nfallahi/Developer/LSATS-RCI-Research/VirusHostInteractionPredictor/tutorials/vip_tutorial.ipynb#W6sZmlsZQ%3D%3D?line=5'>6</a>\u001b[0m predictions\u001b[39m.\u001b[39mrun_parallel(CPU_CORES)\n",
      "File \u001b[0;32m~/Developer/LSATS-RCI-Research/VirusHostInteractionPredictor/src/vhip/predict_interactions.py:32\u001b[0m, in \u001b[0;36mPredictInteractions.load_model\u001b[0;34m(self, path)\u001b[0m\n\u001b[1;32m     27\u001b[0m \u001b[39mdef\u001b[39;00m \u001b[39mload_model\u001b[39m(\u001b[39mself\u001b[39m, path):\n\u001b[1;32m     28\u001b[0m \u001b[39m    \u001b[39m\u001b[39m'''\u001b[39;00m\n\u001b[1;32m     29\u001b[0m \u001b[39m    Load machine learning model. \u001b[39;00m\n\u001b[1;32m     30\u001b[0m \u001b[39m    '''\u001b[39;00m\n\u001b[0;32m---> 32\u001b[0m     \u001b[39mself\u001b[39m\u001b[39m.\u001b[39mmodel \u001b[39m=\u001b[39m joblib\u001b[39m.\u001b[39;49mload(path)\n",
      "File \u001b[0;32m~/Developer/LSATS-RCI-Research/VirusHostInteractionPredictor/.venv/lib/python3.11/site-packages/joblib/numpy_pickle.py:658\u001b[0m, in \u001b[0;36mload\u001b[0;34m(filename, mmap_mode)\u001b[0m\n\u001b[1;32m    652\u001b[0m             \u001b[39mif\u001b[39;00m \u001b[39misinstance\u001b[39m(fobj, \u001b[39mstr\u001b[39m):\n\u001b[1;32m    653\u001b[0m                 \u001b[39m# if the returned file object is a string, this means we\u001b[39;00m\n\u001b[1;32m    654\u001b[0m                 \u001b[39m# try to load a pickle file generated with an version of\u001b[39;00m\n\u001b[1;32m    655\u001b[0m                 \u001b[39m# Joblib so we load it with joblib compatibility function.\u001b[39;00m\n\u001b[1;32m    656\u001b[0m                 \u001b[39mreturn\u001b[39;00m load_compatibility(fobj)\n\u001b[0;32m--> 658\u001b[0m             obj \u001b[39m=\u001b[39m _unpickle(fobj, filename, mmap_mode)\n\u001b[1;32m    659\u001b[0m \u001b[39mreturn\u001b[39;00m obj\n",
      "File \u001b[0;32m~/Developer/LSATS-RCI-Research/VirusHostInteractionPredictor/.venv/lib/python3.11/site-packages/joblib/numpy_pickle.py:577\u001b[0m, in \u001b[0;36m_unpickle\u001b[0;34m(fobj, filename, mmap_mode)\u001b[0m\n\u001b[1;32m    575\u001b[0m obj \u001b[39m=\u001b[39m \u001b[39mNone\u001b[39;00m\n\u001b[1;32m    576\u001b[0m \u001b[39mtry\u001b[39;00m:\n\u001b[0;32m--> 577\u001b[0m     obj \u001b[39m=\u001b[39m unpickler\u001b[39m.\u001b[39;49mload()\n\u001b[1;32m    578\u001b[0m     \u001b[39mif\u001b[39;00m unpickler\u001b[39m.\u001b[39mcompat_mode:\n\u001b[1;32m    579\u001b[0m         warnings\u001b[39m.\u001b[39mwarn(\u001b[39m\"\u001b[39m\u001b[39mThe file \u001b[39m\u001b[39m'\u001b[39m\u001b[39m%s\u001b[39;00m\u001b[39m'\u001b[39m\u001b[39m has been generated with a \u001b[39m\u001b[39m\"\u001b[39m\n\u001b[1;32m    580\u001b[0m                       \u001b[39m\"\u001b[39m\u001b[39mjoblib version less than 0.10. \u001b[39m\u001b[39m\"\u001b[39m\n\u001b[1;32m    581\u001b[0m                       \u001b[39m\"\u001b[39m\u001b[39mPlease regenerate this pickle file.\u001b[39m\u001b[39m\"\u001b[39m\n\u001b[1;32m    582\u001b[0m                       \u001b[39m%\u001b[39m filename,\n\u001b[1;32m    583\u001b[0m                       \u001b[39mDeprecationWarning\u001b[39;00m, stacklevel\u001b[39m=\u001b[39m\u001b[39m3\u001b[39m)\n",
      "File \u001b[0;32m~/.pyenv/versions/3.11.5/lib/python3.11/pickle.py:1213\u001b[0m, in \u001b[0;36m_Unpickler.load\u001b[0;34m(self)\u001b[0m\n\u001b[1;32m   1211\u001b[0m             \u001b[39mraise\u001b[39;00m \u001b[39mEOFError\u001b[39;00m\n\u001b[1;32m   1212\u001b[0m         \u001b[39massert\u001b[39;00m \u001b[39misinstance\u001b[39m(key, bytes_types)\n\u001b[0;32m-> 1213\u001b[0m         dispatch[key[\u001b[39m0\u001b[39;49m]](\u001b[39mself\u001b[39;49m)\n\u001b[1;32m   1214\u001b[0m \u001b[39mexcept\u001b[39;00m _Stop \u001b[39mas\u001b[39;00m stopinst:\n\u001b[1;32m   1215\u001b[0m     \u001b[39mreturn\u001b[39;00m stopinst\u001b[39m.\u001b[39mvalue\n",
      "File \u001b[0;32m~/Developer/LSATS-RCI-Research/VirusHostInteractionPredictor/.venv/lib/python3.11/site-packages/joblib/numpy_pickle.py:415\u001b[0m, in \u001b[0;36mNumpyUnpickler.load_build\u001b[0;34m(self)\u001b[0m\n\u001b[1;32m    413\u001b[0m \u001b[39mif\u001b[39;00m \u001b[39misinstance\u001b[39m(array_wrapper, NDArrayWrapper):\n\u001b[1;32m    414\u001b[0m     \u001b[39mself\u001b[39m\u001b[39m.\u001b[39mcompat_mode \u001b[39m=\u001b[39m \u001b[39mTrue\u001b[39;00m\n\u001b[0;32m--> 415\u001b[0m \u001b[39mself\u001b[39m\u001b[39m.\u001b[39mstack\u001b[39m.\u001b[39mappend(array_wrapper\u001b[39m.\u001b[39;49mread(\u001b[39mself\u001b[39;49m))\n",
      "File \u001b[0;32m~/Developer/LSATS-RCI-Research/VirusHostInteractionPredictor/.venv/lib/python3.11/site-packages/joblib/numpy_pickle.py:252\u001b[0m, in \u001b[0;36mNumpyArrayWrapper.read\u001b[0;34m(self, unpickler)\u001b[0m\n\u001b[1;32m    250\u001b[0m     array \u001b[39m=\u001b[39m \u001b[39mself\u001b[39m\u001b[39m.\u001b[39mread_mmap(unpickler)\n\u001b[1;32m    251\u001b[0m \u001b[39melse\u001b[39;00m:\n\u001b[0;32m--> 252\u001b[0m     array \u001b[39m=\u001b[39m \u001b[39mself\u001b[39;49m\u001b[39m.\u001b[39;49mread_array(unpickler)\n\u001b[1;32m    254\u001b[0m \u001b[39m# Manage array subclass case\u001b[39;00m\n\u001b[1;32m    255\u001b[0m \u001b[39mif\u001b[39;00m (\u001b[39mhasattr\u001b[39m(array, \u001b[39m'\u001b[39m\u001b[39m__array_prepare__\u001b[39m\u001b[39m'\u001b[39m) \u001b[39mand\u001b[39;00m\n\u001b[1;32m    256\u001b[0m     \u001b[39mself\u001b[39m\u001b[39m.\u001b[39msubclass \u001b[39mnot\u001b[39;00m \u001b[39min\u001b[39;00m (unpickler\u001b[39m.\u001b[39mnp\u001b[39m.\u001b[39mndarray,\n\u001b[1;32m    257\u001b[0m                           unpickler\u001b[39m.\u001b[39mnp\u001b[39m.\u001b[39mmemmap)):\n\u001b[1;32m    258\u001b[0m     \u001b[39m# We need to reconstruct another subclass\u001b[39;00m\n",
      "File \u001b[0;32m~/Developer/LSATS-RCI-Research/VirusHostInteractionPredictor/.venv/lib/python3.11/site-packages/joblib/numpy_pickle.py:152\u001b[0m, in \u001b[0;36mNumpyArrayWrapper.read_array\u001b[0;34m(self, unpickler)\u001b[0m\n\u001b[1;32m    149\u001b[0m \u001b[39m# Now read the actual data.\u001b[39;00m\n\u001b[1;32m    150\u001b[0m \u001b[39mif\u001b[39;00m \u001b[39mself\u001b[39m\u001b[39m.\u001b[39mdtype\u001b[39m.\u001b[39mhasobject:\n\u001b[1;32m    151\u001b[0m     \u001b[39m# The array contained Python objects. We need to unpickle the data.\u001b[39;00m\n\u001b[0;32m--> 152\u001b[0m     array \u001b[39m=\u001b[39m pickle\u001b[39m.\u001b[39mload(unpickler\u001b[39m.\u001b[39mfile_handle)\n\u001b[1;32m    153\u001b[0m \u001b[39melse\u001b[39;00m:\n\u001b[1;32m    154\u001b[0m     numpy_array_alignment_bytes \u001b[39m=\u001b[39m \\\n\u001b[1;32m    155\u001b[0m         \u001b[39mself\u001b[39m\u001b[39m.\u001b[39msafe_get_numpy_array_alignment_bytes()\n",
      "File \u001b[0;32msklearn/tree/_tree.pyx:728\u001b[0m, in \u001b[0;36msklearn.tree._tree.Tree.__setstate__\u001b[0;34m()\u001b[0m\n",
      "File \u001b[0;32msklearn/tree/_tree.pyx:1434\u001b[0m, in \u001b[0;36msklearn.tree._tree._check_node_ndarray\u001b[0;34m()\u001b[0m\n",
      "\u001b[0;31mValueError\u001b[0m: node array from the pickle has an incompatible dtype:\n- expected: {'names': ['left_child', 'right_child', 'feature', 'threshold', 'impurity', 'n_node_samples', 'weighted_n_node_samples', 'missing_go_to_left'], 'formats': ['<i8', '<i8', '<i8', '<f8', '<f8', '<i8', '<f8', 'u1'], 'offsets': [0, 8, 16, 24, 32, 40, 48, 56], 'itemsize': 64}\n- got     : [('left_child', '<i8'), ('right_child', '<i8'), ('feature', '<i8'), ('threshold', '<f8'), ('impurity', '<f8'), ('n_node_samples', '<i8'), ('weighted_n_node_samples', '<f8')]"
     ]
    }
   ],
   "source": [
    "# run model \n",
    "predictions = PredictInteractions(virus_directory_path, host_directory_path)\n",
    "predictions.add_blastn_files(blastn_path, spacer_path)\n",
    "predictions.load_model(model_path)\n",
    "predictions.do_setup()\n",
    "predictions.run_parallel(CPU_CORES)\n",
    "predictions.predict()\n",
    "predictions.save_predictions(output_filename)"
   ]
  },
  {
   "attachments": {},
   "cell_type": "markdown",
   "metadata": {},
   "source": [
    "### **Predict only for virus-host pair of interest**\n",
    "\n",
    "For this example, I will use the same set. But this I am also going to provide the additional parameter needed: a tsv file containing specific virus-host pair to be tested. "
   ]
  },
  {
   "cell_type": "code",
   "execution_count": 11,
   "metadata": {},
   "outputs": [],
   "source": [
    "pairs_of_interest_path = './example_VirusHost_pairlist.txt'\n",
    "\n",
    "\n",
    "output_filename = './output/test_onlydesiredpairs_predictions.tsv'\n"
   ]
  },
  {
   "attachments": {},
   "cell_type": "markdown",
   "metadata": {},
   "source": [
    "With this parameter defined, now we can make the predictions!"
   ]
  },
  {
   "cell_type": "code",
   "execution_count": 13,
   "metadata": {},
   "outputs": [
    {
     "name": "stdout",
     "output_type": "stream",
     "text": [
      "SETUP - ...indexing fasta filenames for viruses and hosts...\n",
      "SETUP - ...initialize all pairs...\n",
      "./example_VirusHost_pairlist.txt\n",
      "reading pairs file\n",
      "SETUP - ...getting fasta headers...\n",
      "SETUP - ...process blastn and spacers output...\n",
      "SETUP - ...calculate GC content and k-mer profiles...\n",
      "-------> current pair: GCA_021090675.1_ASM2109067v1_genomic.fasta | Staphylococcus_epidermidis.fasta\n",
      "-------> current pair: GCA_021090665.1_ASM2109066v1_genomic.fasta | Staphylococcus_arlettae.fasta\n",
      "-------> current pair: GCA_021090665.1_ASM2109066v1_genomic.fasta | Staphylococcus_aureus.fasta\n",
      "MODEL - ...making predictions...\n",
      "MODEL - ...predictions are done!...\n"
     ]
    }
   ],
   "source": [
    "predictions = PredictInteractions(virus_directory_path, host_directory_path, pairs_of_interest=pairs_of_interest_path)\n",
    "predictions.add_blastn_files(blastn_path, spacer_path)\n",
    "predictions.load_model(model_path)\n",
    "predictions.do_setup()\n",
    "predictions.run_parallel(CPU_CORES)\n",
    "predictions.predict()\n",
    "predictions.save_predictions(output_filename)\n"
   ]
  }
 ],
 "metadata": {
  "kernelspec": {
   "display_name": "vip",
   "language": "python",
   "name": "python3"
  },
  "language_info": {
   "codemirror_mode": {
    "name": "ipython",
    "version": 3
   },
   "file_extension": ".py",
   "mimetype": "text/x-python",
   "name": "python",
   "nbconvert_exporter": "python",
   "pygments_lexer": "ipython3",
   "version": "3.11.5"
  },
  "orig_nbformat": 4
 },
 "nbformat": 4,
 "nbformat_minor": 2
}
