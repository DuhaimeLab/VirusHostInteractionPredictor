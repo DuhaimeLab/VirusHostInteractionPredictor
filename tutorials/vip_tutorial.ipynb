{
 "cells": [
  {
   "attachments": {},
   "cell_type": "markdown",
   "metadata": {},
   "source": [
    "# Example of running tool \n",
    "\n",
    "## blastn jobs\n",
    "\n",
    "Before running VHIP to predict virus-host interactions, blastn are first needed: \n",
    "1. blastn between virus sequences against host sequences\n",
    "2. blastn between virus sequences against host spacers\n",
    "\n",
    "Here are guidelinees in running blastn jobs.\n",
    "First combine the virus sequences into a single file (`cat ./viruses/*.fasta > allviruses.fasta`). \n",
    "1. Run CRISPRCasFinder on host sequences of interest (each host should be in its own `.fasta` file)  \n",
    "    a. Extract the spacers and store them into a single `.fasta` file. We included two helper files in the folder `helper_scripts/ `\n",
    "        i. To get a table of all spacers, use the `results_to_csv.sh` script\n",
    "        ii. To convert the csv file into a fasta files of spacers, use the `csv_to_multifasta.py`\n",
    "    b. Make blastn database (`makeblastdb -in fastafilename.fasta -title thetitleyouwant -dbtype nucl`)  \n",
    "    c. Run blastn between viruses against spacers. The output of this blastn is one of the needed input for VHIP \n",
    "2. Run blastn for viruses against hosts.  \n",
    "    a. Combine all the hosts into a single file (`cat ./host_sequences/*.fasta > allhosts.fasta`)  \n",
    "    b. Make blastn database  \n",
    "    c. Run blastn between viruses against host sequences. The output of this blastn is the other needed input for VHIP. \n",
    "\n",
    "The blastn files for this example are included as part of this tutorial. \n",
    "\n",
    "\n",
    "#  Running VHIP \n"
   ]
  },
  {
   "cell_type": "markdown",
   "metadata": {},
   "source": [
    "First, let's load the PredictInteractions class that will make the predictions. Please make sure that you have the conda environment setup correctly. The list of modules required to run this tool can be found in the `requirements.txt` file. \n"
   ]
  },
  {
   "cell_type": "code",
   "execution_count": 2,
   "metadata": {},
   "outputs": [],
   "source": [
    "from vhip.predict_interactions import PredictInteractions\n",
    "\n",
    "# path of saved machine learning model \n",
    "model_path = '..src/vhip/gbrt.pkl'"
   ]
  },
  {
   "attachments": {},
   "cell_type": "markdown",
   "metadata": {},
   "source": [
    "Next, the user need to define certain parameters:\n",
    "1. Location of viruses fasta files. All viruses should be in their own separate file. \n",
    "2. Location of the host fasta files. All hosts should be in their own separate files as well. \n",
    "3. Blastn results of viruses against host, and viruses against spacers. \n",
    "4. The filename for the output. \n",
    "4. The number of CPU cores to be used. \n",
    "\n",
    "IMPORTANT: Viruses and hosts have to be in separate folders. \n",
    "\n",
    "In here, I will be using the test_set folder as an example. \n",
    "\n",
    "There are two different ways to use the tool: \n",
    "1. Make a prediction for each possible virus-host pair. \n",
    "2. Make predictions only for virus-host pair of interest by providing a tsv as an additional input file. \n",
    "\n",
    "In either case, user need to provide the virus and host sequences in separate folders, and output of blastn. \n",
    "\n",
    "### 1. **Make a prediction for each possible virus-host pair**\n",
    "\n",
    "\n",
    "Regarding the number of CPU cores, I strongly recommend to use at least 6 if that's possible. With only 1 core, it takes around 40 minutes to run this tool on the test set. Using 6, it will only take about 5 minutes. \n",
    "\n",
    "This tool also assumes that the user is interesting in predicting interactions for every virus-host combinations possible. \n",
    "\n",
    "The output file will be saved in the `test_set/` folder.\n"
   ]
  },
  {
   "cell_type": "code",
   "execution_count": 3,
   "metadata": {},
   "outputs": [],
   "source": [
    "# USER INPUTS\n",
    "virus_directory_path = './test_set/virus_sequences/'\n",
    "host_directory_path = './test_set/host_sequences/'\n",
    "\n",
    "blastn_path = './test_set/StaphStudy_virusvhosts.tsv'\n",
    "spacer_path = './test_set/StaphStudy_virusvspacers_blastn.tsv'\n",
    "\n",
    "output_filename = './output/test_allpossiblepairs_predictions.tsv'\n",
    "\n",
    "CPU_CORES = 6"
   ]
  },
  {
   "attachments": {},
   "cell_type": "markdown",
   "metadata": {},
   "source": [
    "The code below computes the predictions. There is nothing for the user to change!"
   ]
  },
  {
   "cell_type": "code",
   "execution_count": 4,
   "metadata": {},
   "outputs": [
    {
     "ename": "FileNotFoundError",
     "evalue": "[Errno 2] No such file or directory: '../vip/gbrt.pkl'",
     "output_type": "error",
     "traceback": [
      "\u001b[0;31m---------------------------------------------------------------------------\u001b[0m",
      "\u001b[0;31mFileNotFoundError\u001b[0m                         Traceback (most recent call last)",
      "\u001b[1;32m/Users/nfallahi/Developer/LSATS-RCI-Research/VirusHostInteractionPredictor/tutorials/vip_tutorial.ipynb Cell 7\u001b[0m line \u001b[0;36m4\n\u001b[1;32m      <a href='vscode-notebook-cell:/Users/nfallahi/Developer/LSATS-RCI-Research/VirusHostInteractionPredictor/tutorials/vip_tutorial.ipynb#W6sZmlsZQ%3D%3D?line=1'>2</a>\u001b[0m predictions \u001b[39m=\u001b[39m PredictInteractions(virus_directory_path, host_directory_path)\n\u001b[1;32m      <a href='vscode-notebook-cell:/Users/nfallahi/Developer/LSATS-RCI-Research/VirusHostInteractionPredictor/tutorials/vip_tutorial.ipynb#W6sZmlsZQ%3D%3D?line=2'>3</a>\u001b[0m predictions\u001b[39m.\u001b[39madd_blastn_files(blastn_path, spacer_path)\n\u001b[0;32m----> <a href='vscode-notebook-cell:/Users/nfallahi/Developer/LSATS-RCI-Research/VirusHostInteractionPredictor/tutorials/vip_tutorial.ipynb#W6sZmlsZQ%3D%3D?line=3'>4</a>\u001b[0m predictions\u001b[39m.\u001b[39;49mload_model(model_path)\n\u001b[1;32m      <a href='vscode-notebook-cell:/Users/nfallahi/Developer/LSATS-RCI-Research/VirusHostInteractionPredictor/tutorials/vip_tutorial.ipynb#W6sZmlsZQ%3D%3D?line=4'>5</a>\u001b[0m predictions\u001b[39m.\u001b[39mdo_setup()\n\u001b[1;32m      <a href='vscode-notebook-cell:/Users/nfallahi/Developer/LSATS-RCI-Research/VirusHostInteractionPredictor/tutorials/vip_tutorial.ipynb#W6sZmlsZQ%3D%3D?line=5'>6</a>\u001b[0m predictions\u001b[39m.\u001b[39mrun_parallel(CPU_CORES)\n",
      "File \u001b[0;32m~/Developer/LSATS-RCI-Research/VirusHostInteractionPredictor/src/vhip/predict_interactions.py:32\u001b[0m, in \u001b[0;36mPredictInteractions.load_model\u001b[0;34m(self, path)\u001b[0m\n\u001b[1;32m     27\u001b[0m \u001b[39mdef\u001b[39;00m \u001b[39mload_model\u001b[39m(\u001b[39mself\u001b[39m, path):\n\u001b[1;32m     28\u001b[0m \u001b[39m    \u001b[39m\u001b[39m'''\u001b[39;00m\n\u001b[1;32m     29\u001b[0m \u001b[39m    Load machine learning model. \u001b[39;00m\n\u001b[1;32m     30\u001b[0m \u001b[39m    '''\u001b[39;00m\n\u001b[0;32m---> 32\u001b[0m     \u001b[39mself\u001b[39m\u001b[39m.\u001b[39mmodel \u001b[39m=\u001b[39m joblib\u001b[39m.\u001b[39;49mload(path)\n",
      "File \u001b[0;32m~/Developer/LSATS-RCI-Research/VirusHostInteractionPredictor/.venv/lib/python3.11/site-packages/joblib/numpy_pickle.py:650\u001b[0m, in \u001b[0;36mload\u001b[0;34m(filename, mmap_mode)\u001b[0m\n\u001b[1;32m    648\u001b[0m         obj \u001b[39m=\u001b[39m _unpickle(fobj)\n\u001b[1;32m    649\u001b[0m \u001b[39melse\u001b[39;00m:\n\u001b[0;32m--> 650\u001b[0m     \u001b[39mwith\u001b[39;00m \u001b[39mopen\u001b[39;49m(filename, \u001b[39m'\u001b[39;49m\u001b[39mrb\u001b[39;49m\u001b[39m'\u001b[39;49m) \u001b[39mas\u001b[39;00m f:\n\u001b[1;32m    651\u001b[0m         \u001b[39mwith\u001b[39;00m _read_fileobject(f, filename, mmap_mode) \u001b[39mas\u001b[39;00m fobj:\n\u001b[1;32m    652\u001b[0m             \u001b[39mif\u001b[39;00m \u001b[39misinstance\u001b[39m(fobj, \u001b[39mstr\u001b[39m):\n\u001b[1;32m    653\u001b[0m                 \u001b[39m# if the returned file object is a string, this means we\u001b[39;00m\n\u001b[1;32m    654\u001b[0m                 \u001b[39m# try to load a pickle file generated with an version of\u001b[39;00m\n\u001b[1;32m    655\u001b[0m                 \u001b[39m# Joblib so we load it with joblib compatibility function.\u001b[39;00m\n",
      "\u001b[0;31mFileNotFoundError\u001b[0m: [Errno 2] No such file or directory: '../vip/gbrt.pkl'"
     ]
    }
   ],
   "source": [
    "# run model \n",
    "predictions = PredictInteractions(virus_directory_path, host_directory_path)\n",
    "predictions.add_blastn_files(blastn_path, spacer_path)\n",
    "predictions.load_model(model_path)\n",
    "predictions.do_setup()\n",
    "predictions.run_parallel(CPU_CORES)\n",
    "predictions.predict()\n",
    "predictions.save_predictions(output_filename)"
   ]
  },
  {
   "attachments": {},
   "cell_type": "markdown",
   "metadata": {},
   "source": [
    "### **Predict only for virus-host pair of interest**\n",
    "\n",
    "For this example, I will use the same set. But this I am also going to provide the additional parameter needed: a tsv file containing specific virus-host pair to be tested. "
   ]
  },
  {
   "cell_type": "code",
   "execution_count": 11,
   "metadata": {},
   "outputs": [],
   "source": [
    "pairs_of_interest_path = './example_VirusHost_pairlist.txt'\n",
    "\n",
    "\n",
    "output_filename = './output/test_onlydesiredpairs_predictions.tsv'\n"
   ]
  },
  {
   "attachments": {},
   "cell_type": "markdown",
   "metadata": {},
   "source": [
    "With this parameter defined, now we can make the predictions!"
   ]
  },
  {
   "cell_type": "code",
   "execution_count": 13,
   "metadata": {},
   "outputs": [
    {
     "name": "stdout",
     "output_type": "stream",
     "text": [
      "SETUP - ...indexing fasta filenames for viruses and hosts...\n",
      "SETUP - ...initialize all pairs...\n",
      "./example_VirusHost_pairlist.txt\n",
      "reading pairs file\n",
      "SETUP - ...getting fasta headers...\n",
      "SETUP - ...process blastn and spacers output...\n",
      "SETUP - ...calculate GC content and k-mer profiles...\n",
      "-------> current pair: GCA_021090675.1_ASM2109067v1_genomic.fasta | Staphylococcus_epidermidis.fasta\n",
      "-------> current pair: GCA_021090665.1_ASM2109066v1_genomic.fasta | Staphylococcus_arlettae.fasta\n",
      "-------> current pair: GCA_021090665.1_ASM2109066v1_genomic.fasta | Staphylococcus_aureus.fasta\n",
      "MODEL - ...making predictions...\n",
      "MODEL - ...predictions are done!...\n"
     ]
    }
   ],
   "source": [
    "predictions = PredictInteractions(virus_directory_path, host_directory_path, pairs_of_interest=pairs_of_interest_path)\n",
    "predictions.add_blastn_files(blastn_path, spacer_path)\n",
    "predictions.load_model(model_path)\n",
    "predictions.do_setup()\n",
    "predictions.run_parallel(CPU_CORES)\n",
    "predictions.predict()\n",
    "predictions.save_predictions(output_filename)\n"
   ]
  }
 ],
 "metadata": {
  "kernelspec": {
   "display_name": "vip",
   "language": "python",
   "name": "python3"
  },
  "language_info": {
   "codemirror_mode": {
    "name": "ipython",
    "version": 3
   },
   "file_extension": ".py",
   "mimetype": "text/x-python",
   "name": "python",
   "nbconvert_exporter": "python",
   "pygments_lexer": "ipython3",
   "version": "3.11.5"
  },
  "orig_nbformat": 4
 },
 "nbformat": 4,
 "nbformat_minor": 2
}
